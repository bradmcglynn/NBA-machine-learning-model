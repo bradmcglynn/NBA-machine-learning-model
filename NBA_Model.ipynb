{
  "nbformat": 4,
  "nbformat_minor": 0,
  "metadata": {
    "colab": {
      "name": "NBA Model.ipynb",
      "provenance": [],
      "collapsed_sections": []
    },
    "kernelspec": {
      "name": "python3",
      "display_name": "Python 3"
    },
    "language_info": {
      "name": "python"
    }
  },
  "cells": [
    {
      "cell_type": "code",
      "metadata": {
        "id": "Kd4fnjyVNA8J"
      },
      "source": [
        "import numpy as np\n",
        "import pandas as pd\n",
        "\n",
        "import matplotlib.pyplot as plt\n",
        "import seaborn as sns\n",
        "from sklearn.model_selection import train_test_split\n",
        "from sklearn.linear_model import LinearRegression\n",
        "\n",
        "# This will be the main notebook we will be working with. When looking to add new code/ update old code, \n",
        "# make a copy of this workbook, then notify me when you want the files to be merged together."
      ],
      "execution_count": null,
      "outputs": []
    },
    {
      "cell_type": "code",
      "source": [
        "# Yuvraj's code for cleaning names; replace with appropriate dataframe where necessary\n",
        "def cleanNames(dataset):\n",
        "  names_list = np.array(dataset['Player'].astype(str))\n",
        "\n",
        "  # cleaning the name values of any unnecessary characters \n",
        "  clean_names_list = []\n",
        "  for i in range(len(names_list)):\n",
        "    clean_names_list.append(names_list[i].strip('0123456789qwertyuiopasdfghjklzxcvbnm').strip('\\\\'))\n",
        "  dataset['Player']=dataset['Player'].replace(names_list,clean_names_list)\n",
        "\n",
        "  # making a unique dataframe with no repeating player names\n",
        "  dataset = dataset.drop_duplicates(subset='Player')\n",
        "  dataset = dataset[dataset['G'] > 42]\n",
        "\n",
        "  return dataset\n",
        "\n"
      ],
      "metadata": {
        "id": "yQ4O6_AJhsbQ"
      },
      "execution_count": null,
      "outputs": []
    },
    {
      "cell_type": "code",
      "source": [
        "# continuation of Yuvraj's work, copy/ paste it elsewhere/ alter the variable names as needed for the approprite datasets\n",
        "def mergeStatsSalaries(stats_dataset, salary_dataset, salary_column_num):\n",
        "  salary_dataset = salary_dataset.rename(columns={'Name/ Team':'Player'})\n",
        "\n",
        "  # getting messy names list\n",
        "  salary_names_list = np.array(salary_dataset['Player'].astype(str))\n",
        "\n",
        "  # cleaning name values\n",
        "  clean_salary_names_list = []\n",
        "  for i in range(len(salary_names_list)):\n",
        "    clean_salary_names_list.append(salary_names_list[i].rstrip('QWERTYUIOPASDFGHJKLZXCVBNM').strip())\n",
        "  salary_dataset['Player']=salary_dataset['Player'].replace(salary_names_list, clean_salary_names_list)\n",
        "\n",
        "  # unique names df, removing unnecessary data\n",
        "  new_salary_df = salary_dataset.drop_duplicates(subset='Player')\n",
        "  new_salary_df.drop('Rank', axis=1, inplace=True)\n",
        "  new_salary_df.drop('Position', axis=1, inplace=True)\n",
        "  new_salary_df.drop('Age', axis=1, inplace=True)\n",
        "\n",
        "  # merging dataframes\n",
        "  combined_stats_salaries_df = pd.merge(stats_dataset,new_salary_df, how=\"inner\", on=\"Player\")\n",
        " \n",
        "  # changes average salary numbers to integers, allowing them to be seen in the correlation below\n",
        "  combined_stats_salaries_df[combined_stats_salaries_df.columns[salary_column_num:]] = combined_stats_salaries_df[combined_stats_salaries_df.columns[salary_column_num:]].replace('[\\D,]', '', regex=True).astype(float)\n",
        "  return combined_stats_salaries_df"
      ],
      "metadata": {
        "id": "KMozxfsaXnom"
      },
      "execution_count": null,
      "outputs": []
    },
    {
      "cell_type": "code",
      "metadata": {
        "id": "zroRHNy0NliG",
        "colab": {
          "base_uri": "https://localhost:8080/",
          "height": 443
        },
        "outputId": "03d8f9bb-2959-439c-af5c-9b5b2d591676"
      },
      "source": [
        "# use this block to store player statistical data from the 2018-2019, 2019-2020 and 2020-2021 seasons\n",
        "\n",
        "per_game_dataset_2019 = pd.read_csv(\"PerGameStats2018_2019 - Sheet1.csv\")\n",
        "per_game_dataset_2020 = pd.read_csv(\"PerGameStats2019_2020 - Sheet1.csv\")\n",
        "per_game_dataset_2021 = pd.read_csv(\"PerGameStats2020_2021 - Sheet1.csv\")\n",
        "\n",
        "\n",
        "\n",
        "\n"
      ],
      "execution_count": null,
      "outputs": [
        {
          "output_type": "error",
          "ename": "FileNotFoundError",
          "evalue": "ignored",
          "traceback": [
            "\u001b[0;31m---------------------------------------------------------------------------\u001b[0m",
            "\u001b[0;31mFileNotFoundError\u001b[0m                         Traceback (most recent call last)",
            "\u001b[0;32m<ipython-input-13-b35b5a047ea0>\u001b[0m in \u001b[0;36m<module>\u001b[0;34m()\u001b[0m\n\u001b[1;32m      1\u001b[0m \u001b[0;31m# use this block to store player statistical data from the 2018-2019, 2019-2020 and 2020-2021 seasons\u001b[0m\u001b[0;34m\u001b[0m\u001b[0;34m\u001b[0m\u001b[0;34m\u001b[0m\u001b[0m\n\u001b[1;32m      2\u001b[0m \u001b[0;34m\u001b[0m\u001b[0m\n\u001b[0;32m----> 3\u001b[0;31m \u001b[0mper_game_dataset_2019\u001b[0m \u001b[0;34m=\u001b[0m \u001b[0mpd\u001b[0m\u001b[0;34m.\u001b[0m\u001b[0mread_csv\u001b[0m\u001b[0;34m(\u001b[0m\u001b[0;34m\"PerGameStats2018_2019 - Sheet1.csv\"\u001b[0m\u001b[0;34m)\u001b[0m\u001b[0;34m\u001b[0m\u001b[0;34m\u001b[0m\u001b[0m\n\u001b[0m\u001b[1;32m      4\u001b[0m \u001b[0mper_game_dataset_2020\u001b[0m \u001b[0;34m=\u001b[0m \u001b[0mpd\u001b[0m\u001b[0;34m.\u001b[0m\u001b[0mread_csv\u001b[0m\u001b[0;34m(\u001b[0m\u001b[0;34m\"PerGameStats2019_2020 - Sheet1.csv\"\u001b[0m\u001b[0;34m)\u001b[0m\u001b[0;34m\u001b[0m\u001b[0;34m\u001b[0m\u001b[0m\n\u001b[1;32m      5\u001b[0m \u001b[0mper_game_dataset_2021\u001b[0m \u001b[0;34m=\u001b[0m \u001b[0mpd\u001b[0m\u001b[0;34m.\u001b[0m\u001b[0mread_csv\u001b[0m\u001b[0;34m(\u001b[0m\u001b[0;34m\"PerGameStats2020_2021 - Sheet1.csv\"\u001b[0m\u001b[0;34m)\u001b[0m\u001b[0;34m\u001b[0m\u001b[0;34m\u001b[0m\u001b[0m\n",
            "\u001b[0;32m/usr/local/lib/python3.7/dist-packages/pandas/io/parsers.py\u001b[0m in \u001b[0;36mread_csv\u001b[0;34m(filepath_or_buffer, sep, delimiter, header, names, index_col, usecols, squeeze, prefix, mangle_dupe_cols, dtype, engine, converters, true_values, false_values, skipinitialspace, skiprows, skipfooter, nrows, na_values, keep_default_na, na_filter, verbose, skip_blank_lines, parse_dates, infer_datetime_format, keep_date_col, date_parser, dayfirst, cache_dates, iterator, chunksize, compression, thousands, decimal, lineterminator, quotechar, quoting, doublequote, escapechar, comment, encoding, dialect, error_bad_lines, warn_bad_lines, delim_whitespace, low_memory, memory_map, float_precision)\u001b[0m\n\u001b[1;32m    686\u001b[0m     )\n\u001b[1;32m    687\u001b[0m \u001b[0;34m\u001b[0m\u001b[0m\n\u001b[0;32m--> 688\u001b[0;31m     \u001b[0;32mreturn\u001b[0m \u001b[0m_read\u001b[0m\u001b[0;34m(\u001b[0m\u001b[0mfilepath_or_buffer\u001b[0m\u001b[0;34m,\u001b[0m \u001b[0mkwds\u001b[0m\u001b[0;34m)\u001b[0m\u001b[0;34m\u001b[0m\u001b[0;34m\u001b[0m\u001b[0m\n\u001b[0m\u001b[1;32m    689\u001b[0m \u001b[0;34m\u001b[0m\u001b[0m\n\u001b[1;32m    690\u001b[0m \u001b[0;34m\u001b[0m\u001b[0m\n",
            "\u001b[0;32m/usr/local/lib/python3.7/dist-packages/pandas/io/parsers.py\u001b[0m in \u001b[0;36m_read\u001b[0;34m(filepath_or_buffer, kwds)\u001b[0m\n\u001b[1;32m    452\u001b[0m \u001b[0;34m\u001b[0m\u001b[0m\n\u001b[1;32m    453\u001b[0m     \u001b[0;31m# Create the parser.\u001b[0m\u001b[0;34m\u001b[0m\u001b[0;34m\u001b[0m\u001b[0;34m\u001b[0m\u001b[0m\n\u001b[0;32m--> 454\u001b[0;31m     \u001b[0mparser\u001b[0m \u001b[0;34m=\u001b[0m \u001b[0mTextFileReader\u001b[0m\u001b[0;34m(\u001b[0m\u001b[0mfp_or_buf\u001b[0m\u001b[0;34m,\u001b[0m \u001b[0;34m**\u001b[0m\u001b[0mkwds\u001b[0m\u001b[0;34m)\u001b[0m\u001b[0;34m\u001b[0m\u001b[0;34m\u001b[0m\u001b[0m\n\u001b[0m\u001b[1;32m    455\u001b[0m \u001b[0;34m\u001b[0m\u001b[0m\n\u001b[1;32m    456\u001b[0m     \u001b[0;32mif\u001b[0m \u001b[0mchunksize\u001b[0m \u001b[0;32mor\u001b[0m \u001b[0miterator\u001b[0m\u001b[0;34m:\u001b[0m\u001b[0;34m\u001b[0m\u001b[0;34m\u001b[0m\u001b[0m\n",
            "\u001b[0;32m/usr/local/lib/python3.7/dist-packages/pandas/io/parsers.py\u001b[0m in \u001b[0;36m__init__\u001b[0;34m(self, f, engine, **kwds)\u001b[0m\n\u001b[1;32m    946\u001b[0m             \u001b[0mself\u001b[0m\u001b[0;34m.\u001b[0m\u001b[0moptions\u001b[0m\u001b[0;34m[\u001b[0m\u001b[0;34m\"has_index_names\"\u001b[0m\u001b[0;34m]\u001b[0m \u001b[0;34m=\u001b[0m \u001b[0mkwds\u001b[0m\u001b[0;34m[\u001b[0m\u001b[0;34m\"has_index_names\"\u001b[0m\u001b[0;34m]\u001b[0m\u001b[0;34m\u001b[0m\u001b[0;34m\u001b[0m\u001b[0m\n\u001b[1;32m    947\u001b[0m \u001b[0;34m\u001b[0m\u001b[0m\n\u001b[0;32m--> 948\u001b[0;31m         \u001b[0mself\u001b[0m\u001b[0;34m.\u001b[0m\u001b[0m_make_engine\u001b[0m\u001b[0;34m(\u001b[0m\u001b[0mself\u001b[0m\u001b[0;34m.\u001b[0m\u001b[0mengine\u001b[0m\u001b[0;34m)\u001b[0m\u001b[0;34m\u001b[0m\u001b[0;34m\u001b[0m\u001b[0m\n\u001b[0m\u001b[1;32m    949\u001b[0m \u001b[0;34m\u001b[0m\u001b[0m\n\u001b[1;32m    950\u001b[0m     \u001b[0;32mdef\u001b[0m \u001b[0mclose\u001b[0m\u001b[0;34m(\u001b[0m\u001b[0mself\u001b[0m\u001b[0;34m)\u001b[0m\u001b[0;34m:\u001b[0m\u001b[0;34m\u001b[0m\u001b[0;34m\u001b[0m\u001b[0m\n",
            "\u001b[0;32m/usr/local/lib/python3.7/dist-packages/pandas/io/parsers.py\u001b[0m in \u001b[0;36m_make_engine\u001b[0;34m(self, engine)\u001b[0m\n\u001b[1;32m   1178\u001b[0m     \u001b[0;32mdef\u001b[0m \u001b[0m_make_engine\u001b[0m\u001b[0;34m(\u001b[0m\u001b[0mself\u001b[0m\u001b[0;34m,\u001b[0m \u001b[0mengine\u001b[0m\u001b[0;34m=\u001b[0m\u001b[0;34m\"c\"\u001b[0m\u001b[0;34m)\u001b[0m\u001b[0;34m:\u001b[0m\u001b[0;34m\u001b[0m\u001b[0;34m\u001b[0m\u001b[0m\n\u001b[1;32m   1179\u001b[0m         \u001b[0;32mif\u001b[0m \u001b[0mengine\u001b[0m \u001b[0;34m==\u001b[0m \u001b[0;34m\"c\"\u001b[0m\u001b[0;34m:\u001b[0m\u001b[0;34m\u001b[0m\u001b[0;34m\u001b[0m\u001b[0m\n\u001b[0;32m-> 1180\u001b[0;31m             \u001b[0mself\u001b[0m\u001b[0;34m.\u001b[0m\u001b[0m_engine\u001b[0m \u001b[0;34m=\u001b[0m \u001b[0mCParserWrapper\u001b[0m\u001b[0;34m(\u001b[0m\u001b[0mself\u001b[0m\u001b[0;34m.\u001b[0m\u001b[0mf\u001b[0m\u001b[0;34m,\u001b[0m \u001b[0;34m**\u001b[0m\u001b[0mself\u001b[0m\u001b[0;34m.\u001b[0m\u001b[0moptions\u001b[0m\u001b[0;34m)\u001b[0m\u001b[0;34m\u001b[0m\u001b[0;34m\u001b[0m\u001b[0m\n\u001b[0m\u001b[1;32m   1181\u001b[0m         \u001b[0;32melse\u001b[0m\u001b[0;34m:\u001b[0m\u001b[0;34m\u001b[0m\u001b[0;34m\u001b[0m\u001b[0m\n\u001b[1;32m   1182\u001b[0m             \u001b[0;32mif\u001b[0m \u001b[0mengine\u001b[0m \u001b[0;34m==\u001b[0m \u001b[0;34m\"python\"\u001b[0m\u001b[0;34m:\u001b[0m\u001b[0;34m\u001b[0m\u001b[0;34m\u001b[0m\u001b[0m\n",
            "\u001b[0;32m/usr/local/lib/python3.7/dist-packages/pandas/io/parsers.py\u001b[0m in \u001b[0;36m__init__\u001b[0;34m(self, src, **kwds)\u001b[0m\n\u001b[1;32m   2008\u001b[0m         \u001b[0mkwds\u001b[0m\u001b[0;34m[\u001b[0m\u001b[0;34m\"usecols\"\u001b[0m\u001b[0;34m]\u001b[0m \u001b[0;34m=\u001b[0m \u001b[0mself\u001b[0m\u001b[0;34m.\u001b[0m\u001b[0musecols\u001b[0m\u001b[0;34m\u001b[0m\u001b[0;34m\u001b[0m\u001b[0m\n\u001b[1;32m   2009\u001b[0m \u001b[0;34m\u001b[0m\u001b[0m\n\u001b[0;32m-> 2010\u001b[0;31m         \u001b[0mself\u001b[0m\u001b[0;34m.\u001b[0m\u001b[0m_reader\u001b[0m \u001b[0;34m=\u001b[0m \u001b[0mparsers\u001b[0m\u001b[0;34m.\u001b[0m\u001b[0mTextReader\u001b[0m\u001b[0;34m(\u001b[0m\u001b[0msrc\u001b[0m\u001b[0;34m,\u001b[0m \u001b[0;34m**\u001b[0m\u001b[0mkwds\u001b[0m\u001b[0;34m)\u001b[0m\u001b[0;34m\u001b[0m\u001b[0;34m\u001b[0m\u001b[0m\n\u001b[0m\u001b[1;32m   2011\u001b[0m         \u001b[0mself\u001b[0m\u001b[0;34m.\u001b[0m\u001b[0munnamed_cols\u001b[0m \u001b[0;34m=\u001b[0m \u001b[0mself\u001b[0m\u001b[0;34m.\u001b[0m\u001b[0m_reader\u001b[0m\u001b[0;34m.\u001b[0m\u001b[0munnamed_cols\u001b[0m\u001b[0;34m\u001b[0m\u001b[0;34m\u001b[0m\u001b[0m\n\u001b[1;32m   2012\u001b[0m \u001b[0;34m\u001b[0m\u001b[0m\n",
            "\u001b[0;32mpandas/_libs/parsers.pyx\u001b[0m in \u001b[0;36mpandas._libs.parsers.TextReader.__cinit__\u001b[0;34m()\u001b[0m\n",
            "\u001b[0;32mpandas/_libs/parsers.pyx\u001b[0m in \u001b[0;36mpandas._libs.parsers.TextReader._setup_parser_source\u001b[0;34m()\u001b[0m\n",
            "\u001b[0;31mFileNotFoundError\u001b[0m: [Errno 2] No such file or directory: 'PerGameStats2018_2019 - Sheet1.csv'"
          ]
        }
      ]
    },
    {
      "cell_type": "code",
      "source": [
        "# Advanced Stats + per 36 stats\n",
        "\n",
        "advanced_dataset_2019 = pd.read_csv(\"AdvancedStats2018_2019 - Sheet1.csv\")\n",
        "advanced_dataset_2020 = pd.read_csv(\"AdvancedStats2019_2020 - Sheet1.csv\")\n",
        "advanced_dataset_2021 = pd.read_csv(\"AdvancedStats2020_2021 - Sheet1.csv\")\n",
        "\n",
        "per36_dataset_2019 = pd.read_csv(\"Per36Stats2018_2019 - Sheet1.csv\")\n",
        "per36_dataset_2020 = pd.read_csv(\"Per36Stats2019_2020 - Sheet1.csv\")\n",
        "per36_dataset_2021 = pd.read_csv(\"Per36Stats2020_2021 - Sheet1.csv\")\n",
        "\n",
        "salaries_dataset_2019 = pd.read_csv(\"PlayerSalaries2019-2020 - Sheet1.csv\")\n",
        "salaries_dataset_2020 = pd.read_csv(\"PlayerSalaries2020-2021 - Sheet1.csv\")\n",
        "salaries_dataset_2021 = pd.read_csv(\"PlayerSalaries2021-2022 - Sheet1.csv\")\n"
      ],
      "metadata": {
        "id": "ieJz0F76V8Ia"
      },
      "execution_count": null,
      "outputs": []
    },
    {
      "cell_type": "code",
      "source": [
        "# cleaninging names and merging stats\n",
        "# per 36 stats\n",
        "clean_per36_df = cleanNames(per36_dataset_2019)\n",
        "combined_per36_2019 = mergeStatsSalaries(clean_per36_df, salaries_dataset_2019, 30)\n",
        "\n",
        "\n",
        "clean_per36_df = cleanNames(per36_dataset_2020)\n",
        "combined_per36_2020 = mergeStatsSalaries(clean_per36_df, salaries_dataset_2020, 30)\n",
        "\n",
        "clean_per36_df = cleanNames(per36_dataset_2021)\n",
        "combined_per36_2021 = mergeStatsSalaries(clean_per36_df, salaries_dataset_2021, 30)\n"
      ],
      "metadata": {
        "colab": {
          "base_uri": "https://localhost:8080/",
          "height": 562
        },
        "id": "XW-h1hVUFaXC",
        "outputId": "21530a6e-1b72-42da-a32a-7daa13ae6d39"
      },
      "execution_count": null,
      "outputs": [
        {
          "output_type": "error",
          "ename": "KeyError",
          "evalue": "ignored",
          "traceback": [
            "\u001b[0;31m---------------------------------------------------------------------------\u001b[0m",
            "\u001b[0;31mKeyError\u001b[0m                                  Traceback (most recent call last)",
            "\u001b[0;32m/usr/local/lib/python3.7/dist-packages/pandas/core/indexes/base.py\u001b[0m in \u001b[0;36mget_loc\u001b[0;34m(self, key, method, tolerance)\u001b[0m\n\u001b[1;32m   2897\u001b[0m             \u001b[0;32mtry\u001b[0m\u001b[0;34m:\u001b[0m\u001b[0;34m\u001b[0m\u001b[0;34m\u001b[0m\u001b[0m\n\u001b[0;32m-> 2898\u001b[0;31m                 \u001b[0;32mreturn\u001b[0m \u001b[0mself\u001b[0m\u001b[0;34m.\u001b[0m\u001b[0m_engine\u001b[0m\u001b[0;34m.\u001b[0m\u001b[0mget_loc\u001b[0m\u001b[0;34m(\u001b[0m\u001b[0mcasted_key\u001b[0m\u001b[0;34m)\u001b[0m\u001b[0;34m\u001b[0m\u001b[0;34m\u001b[0m\u001b[0m\n\u001b[0m\u001b[1;32m   2899\u001b[0m             \u001b[0;32mexcept\u001b[0m \u001b[0mKeyError\u001b[0m \u001b[0;32mas\u001b[0m \u001b[0merr\u001b[0m\u001b[0;34m:\u001b[0m\u001b[0;34m\u001b[0m\u001b[0;34m\u001b[0m\u001b[0m\n",
            "\u001b[0;32mpandas/_libs/index.pyx\u001b[0m in \u001b[0;36mpandas._libs.index.IndexEngine.get_loc\u001b[0;34m()\u001b[0m\n",
            "\u001b[0;32mpandas/_libs/index.pyx\u001b[0m in \u001b[0;36mpandas._libs.index.IndexEngine.get_loc\u001b[0;34m()\u001b[0m\n",
            "\u001b[0;32mpandas/_libs/hashtable_class_helper.pxi\u001b[0m in \u001b[0;36mpandas._libs.hashtable.PyObjectHashTable.get_item\u001b[0;34m()\u001b[0m\n",
            "\u001b[0;32mpandas/_libs/hashtable_class_helper.pxi\u001b[0m in \u001b[0;36mpandas._libs.hashtable.PyObjectHashTable.get_item\u001b[0;34m()\u001b[0m\n",
            "\u001b[0;31mKeyError\u001b[0m: 'Player'",
            "\nThe above exception was the direct cause of the following exception:\n",
            "\u001b[0;31mKeyError\u001b[0m                                  Traceback (most recent call last)",
            "\u001b[0;32m<ipython-input-8-e22a6335b301>\u001b[0m in \u001b[0;36m<module>\u001b[0;34m()\u001b[0m\n\u001b[1;32m      2\u001b[0m \u001b[0;31m# per 36 stats\u001b[0m\u001b[0;34m\u001b[0m\u001b[0;34m\u001b[0m\u001b[0;34m\u001b[0m\u001b[0m\n\u001b[1;32m      3\u001b[0m \u001b[0mclean_per36_df\u001b[0m \u001b[0;34m=\u001b[0m \u001b[0mcleanNames\u001b[0m\u001b[0;34m(\u001b[0m\u001b[0mper36_dataset_2019\u001b[0m\u001b[0;34m)\u001b[0m\u001b[0;34m\u001b[0m\u001b[0;34m\u001b[0m\u001b[0m\n\u001b[0;32m----> 4\u001b[0;31m \u001b[0mcombined_per36_2019\u001b[0m \u001b[0;34m=\u001b[0m \u001b[0mmergeStatsSalaries\u001b[0m\u001b[0;34m(\u001b[0m\u001b[0mclean_per36_df\u001b[0m\u001b[0;34m,\u001b[0m \u001b[0msalaries_dataset_2019\u001b[0m\u001b[0;34m,\u001b[0m \u001b[0;36m30\u001b[0m\u001b[0;34m)\u001b[0m\u001b[0;34m\u001b[0m\u001b[0;34m\u001b[0m\u001b[0m\n\u001b[0m\u001b[1;32m      5\u001b[0m \u001b[0;34m\u001b[0m\u001b[0m\n\u001b[1;32m      6\u001b[0m \u001b[0;34m\u001b[0m\u001b[0m\n",
            "\u001b[0;32m<ipython-input-6-d76cc2347a0f>\u001b[0m in \u001b[0;36mmergeStatsSalaries\u001b[0;34m(stats_dataset, salary_dataset, salary_column_num)\u001b[0m\n\u001b[1;32m      4\u001b[0m \u001b[0;34m\u001b[0m\u001b[0m\n\u001b[1;32m      5\u001b[0m   \u001b[0;31m# getting messy names list\u001b[0m\u001b[0;34m\u001b[0m\u001b[0;34m\u001b[0m\u001b[0;34m\u001b[0m\u001b[0m\n\u001b[0;32m----> 6\u001b[0;31m   \u001b[0msalary_names_list\u001b[0m \u001b[0;34m=\u001b[0m \u001b[0mnp\u001b[0m\u001b[0;34m.\u001b[0m\u001b[0marray\u001b[0m\u001b[0;34m(\u001b[0m\u001b[0msalary_dataset\u001b[0m\u001b[0;34m[\u001b[0m\u001b[0;34m'Player'\u001b[0m\u001b[0;34m]\u001b[0m\u001b[0;34m.\u001b[0m\u001b[0mastype\u001b[0m\u001b[0;34m(\u001b[0m\u001b[0mstr\u001b[0m\u001b[0;34m)\u001b[0m\u001b[0;34m)\u001b[0m\u001b[0;34m\u001b[0m\u001b[0;34m\u001b[0m\u001b[0m\n\u001b[0m\u001b[1;32m      7\u001b[0m \u001b[0;34m\u001b[0m\u001b[0m\n\u001b[1;32m      8\u001b[0m   \u001b[0;31m# cleaning name values\u001b[0m\u001b[0;34m\u001b[0m\u001b[0;34m\u001b[0m\u001b[0;34m\u001b[0m\u001b[0m\n",
            "\u001b[0;32m/usr/local/lib/python3.7/dist-packages/pandas/core/frame.py\u001b[0m in \u001b[0;36m__getitem__\u001b[0;34m(self, key)\u001b[0m\n\u001b[1;32m   2904\u001b[0m             \u001b[0;32mif\u001b[0m \u001b[0mself\u001b[0m\u001b[0;34m.\u001b[0m\u001b[0mcolumns\u001b[0m\u001b[0;34m.\u001b[0m\u001b[0mnlevels\u001b[0m \u001b[0;34m>\u001b[0m \u001b[0;36m1\u001b[0m\u001b[0;34m:\u001b[0m\u001b[0;34m\u001b[0m\u001b[0;34m\u001b[0m\u001b[0m\n\u001b[1;32m   2905\u001b[0m                 \u001b[0;32mreturn\u001b[0m \u001b[0mself\u001b[0m\u001b[0;34m.\u001b[0m\u001b[0m_getitem_multilevel\u001b[0m\u001b[0;34m(\u001b[0m\u001b[0mkey\u001b[0m\u001b[0;34m)\u001b[0m\u001b[0;34m\u001b[0m\u001b[0;34m\u001b[0m\u001b[0m\n\u001b[0;32m-> 2906\u001b[0;31m             \u001b[0mindexer\u001b[0m \u001b[0;34m=\u001b[0m \u001b[0mself\u001b[0m\u001b[0;34m.\u001b[0m\u001b[0mcolumns\u001b[0m\u001b[0;34m.\u001b[0m\u001b[0mget_loc\u001b[0m\u001b[0;34m(\u001b[0m\u001b[0mkey\u001b[0m\u001b[0;34m)\u001b[0m\u001b[0;34m\u001b[0m\u001b[0;34m\u001b[0m\u001b[0m\n\u001b[0m\u001b[1;32m   2907\u001b[0m             \u001b[0;32mif\u001b[0m \u001b[0mis_integer\u001b[0m\u001b[0;34m(\u001b[0m\u001b[0mindexer\u001b[0m\u001b[0;34m)\u001b[0m\u001b[0;34m:\u001b[0m\u001b[0;34m\u001b[0m\u001b[0;34m\u001b[0m\u001b[0m\n\u001b[1;32m   2908\u001b[0m                 \u001b[0mindexer\u001b[0m \u001b[0;34m=\u001b[0m \u001b[0;34m[\u001b[0m\u001b[0mindexer\u001b[0m\u001b[0;34m]\u001b[0m\u001b[0;34m\u001b[0m\u001b[0;34m\u001b[0m\u001b[0m\n",
            "\u001b[0;32m/usr/local/lib/python3.7/dist-packages/pandas/core/indexes/base.py\u001b[0m in \u001b[0;36mget_loc\u001b[0;34m(self, key, method, tolerance)\u001b[0m\n\u001b[1;32m   2898\u001b[0m                 \u001b[0;32mreturn\u001b[0m \u001b[0mself\u001b[0m\u001b[0;34m.\u001b[0m\u001b[0m_engine\u001b[0m\u001b[0;34m.\u001b[0m\u001b[0mget_loc\u001b[0m\u001b[0;34m(\u001b[0m\u001b[0mcasted_key\u001b[0m\u001b[0;34m)\u001b[0m\u001b[0;34m\u001b[0m\u001b[0;34m\u001b[0m\u001b[0m\n\u001b[1;32m   2899\u001b[0m             \u001b[0;32mexcept\u001b[0m \u001b[0mKeyError\u001b[0m \u001b[0;32mas\u001b[0m \u001b[0merr\u001b[0m\u001b[0;34m:\u001b[0m\u001b[0;34m\u001b[0m\u001b[0;34m\u001b[0m\u001b[0m\n\u001b[0;32m-> 2900\u001b[0;31m                 \u001b[0;32mraise\u001b[0m \u001b[0mKeyError\u001b[0m\u001b[0;34m(\u001b[0m\u001b[0mkey\u001b[0m\u001b[0;34m)\u001b[0m \u001b[0;32mfrom\u001b[0m \u001b[0merr\u001b[0m\u001b[0;34m\u001b[0m\u001b[0;34m\u001b[0m\u001b[0m\n\u001b[0m\u001b[1;32m   2901\u001b[0m \u001b[0;34m\u001b[0m\u001b[0m\n\u001b[1;32m   2902\u001b[0m         \u001b[0;32mif\u001b[0m \u001b[0mtolerance\u001b[0m \u001b[0;32mis\u001b[0m \u001b[0;32mnot\u001b[0m \u001b[0;32mNone\u001b[0m\u001b[0;34m:\u001b[0m\u001b[0;34m\u001b[0m\u001b[0;34m\u001b[0m\u001b[0m\n",
            "\u001b[0;31mKeyError\u001b[0m: 'Player'"
          ]
        }
      ]
    },
    {
      "cell_type": "code",
      "source": [
        "# advanced stats\n",
        "clean_advanced_df = cleanNames(advanced_dataset_2019)\n",
        "combined_advanced_2019 = mergeStatsSalaries(clean_advanced_df, salaries_dataset_2019, 30)\n",
        "\n",
        "clean_advanced_df = cleanNames(advanced_dataset_2020)\n",
        "combined_advanced_2020 = mergeStatsSalaries(clean_advanced_df, salaries_dataset_2020, 30)\n",
        "\n",
        "clean_advanced_df = cleanNames(advanced_dataset_2021)\n",
        "combined_advanced_2021 = mergeStatsSalaries(clean_advanced_df, salaries_dataset_2021, 30)\n",
        "print(combined_advanced_2019)"
      ],
      "metadata": {
        "colab": {
          "base_uri": "https://localhost:8080/"
        },
        "id": "ITf_BfaTKk9f",
        "outputId": "13badcb0-f680-4d92-fc53-257a833a6df7"
      },
      "execution_count": null,
      "outputs": [
        {
          "output_type": "stream",
          "name": "stderr",
          "text": [
            "/usr/local/lib/python3.7/dist-packages/pandas/core/frame.py:4174: SettingWithCopyWarning: \n",
            "A value is trying to be set on a copy of a slice from a DataFrame\n",
            "\n",
            "See the caveats in the documentation: https://pandas.pydata.org/pandas-docs/stable/user_guide/indexing.html#returning-a-view-versus-a-copy\n",
            "  errors=errors,\n",
            "/usr/local/lib/python3.7/dist-packages/pandas/core/frame.py:4174: SettingWithCopyWarning: \n",
            "A value is trying to be set on a copy of a slice from a DataFrame\n",
            "\n",
            "See the caveats in the documentation: https://pandas.pydata.org/pandas-docs/stable/user_guide/indexing.html#returning-a-view-versus-a-copy\n",
            "  errors=errors,\n"
          ]
        },
        {
          "output_type": "stream",
          "name": "stdout",
          "text": [
            "    Rk              Player Pos  Age   Tm  ...  OBPM  DBPM  BPM  VORP  Average Salary\n",
            "0   27   Marvin Bagley III  PF   19  SAC  ...   0.5  -1.5 -1.0   0.4      $9,034,369\n",
            "1   77      Troy Brown Jr.  SF   19  WAS  ...  -1.7  -1.0 -2.7  -0.1      $3,627,991\n",
            "2   93  Wendell Carter Jr.   C   19  CHI  ...  -2.2   0.6 -1.6   0.1      $5,502,867\n",
            "3  205    Tim Hardaway Jr.  SG   26  TOT  ...  -0.1  -2.0 -2.0   0.0     $17,737,500\n",
            "4  254   Jaren Jackson Jr.  PF   19  MEM  ...  -1.2   1.0 -0.3   0.7      $7,320,110\n",
            "5  271   Derrick Jones Jr.  SF   21  MIA  ...  -1.5   1.0 -0.5   0.4      $1,578,979\n",
            "6  372     Larry Nance Jr.   C   26  CLE  ...   1.0   1.4  2.4   2.0     $11,200,000\n",
            "7  392     Kelly Oubre Jr.  SF   23  TOT  ...  -0.3  -0.9 -1.2   0.4     $15,000,000\n",
            "8  426  Glenn Robinson III  SF   25  DET  ...  -2.8  -0.1 -3.0  -0.2      $1,882,867\n",
            "9  454    Dennis Smith Jr.  PG   21  TOT  ...  -1.6  -0.4 -1.9   0.0      $4,297,139\n",
            "\n",
            "[10 rows x 30 columns]\n"
          ]
        }
      ]
    },
    {
      "cell_type": "code",
      "source": [
        "# per game stats\n",
        "clean_per_df = cleanNames(per_game_dataset_2019)\n",
        "combined_per_game_2019 = mergeStatsSalaries(clean_per36_df, salaries_dataset_2019, 30)\n",
        "\n",
        "clean_per_df = cleanNames(per_game_dataset_2020)\n",
        "combined_per_game_2020 = mergeStatsSalaries(clean_per_df, salaries_dataset_2020, 31)\n",
        "\n",
        "clean_per_game_df = cleanNames(per_game_dataset_2021)\n",
        "combined_per_game_2021 = mergeStatsSalaries(clean_per36_df, salaries_dataset_2021, 30)\n",
        "\n"
      ],
      "metadata": {
        "colab": {
          "base_uri": "https://localhost:8080/",
          "height": 232
        },
        "id": "clRhxgehKbxw",
        "outputId": "d1522c3b-1671-45d6-ac8d-80623028eddd"
      },
      "execution_count": null,
      "outputs": [
        {
          "output_type": "error",
          "ename": "NameError",
          "evalue": "ignored",
          "traceback": [
            "\u001b[0;31m---------------------------------------------------------------------------\u001b[0m",
            "\u001b[0;31mNameError\u001b[0m                                 Traceback (most recent call last)",
            "\u001b[0;32m<ipython-input-1-4c897a05488a>\u001b[0m in \u001b[0;36m<module>\u001b[0;34m()\u001b[0m\n\u001b[1;32m      1\u001b[0m \u001b[0;31m# per game stats\u001b[0m\u001b[0;34m\u001b[0m\u001b[0;34m\u001b[0m\u001b[0;34m\u001b[0m\u001b[0m\n\u001b[0;32m----> 2\u001b[0;31m \u001b[0mclean_per_df\u001b[0m \u001b[0;34m=\u001b[0m \u001b[0mcleanNames\u001b[0m\u001b[0;34m(\u001b[0m\u001b[0mper_game_dataset_2019\u001b[0m\u001b[0;34m)\u001b[0m\u001b[0;34m\u001b[0m\u001b[0;34m\u001b[0m\u001b[0m\n\u001b[0m\u001b[1;32m      3\u001b[0m \u001b[0mcombined_per_game_2019\u001b[0m \u001b[0;34m=\u001b[0m \u001b[0mmergeStatsSalaries\u001b[0m\u001b[0;34m(\u001b[0m\u001b[0mclean_per36_df\u001b[0m\u001b[0;34m,\u001b[0m \u001b[0msalaries_dataset_2019\u001b[0m\u001b[0;34m,\u001b[0m \u001b[0;36m30\u001b[0m\u001b[0;34m)\u001b[0m\u001b[0;34m\u001b[0m\u001b[0;34m\u001b[0m\u001b[0m\n\u001b[1;32m      4\u001b[0m \u001b[0;34m\u001b[0m\u001b[0m\n\u001b[1;32m      5\u001b[0m \u001b[0mclean_per_df\u001b[0m \u001b[0;34m=\u001b[0m \u001b[0mcleanNames\u001b[0m\u001b[0;34m(\u001b[0m\u001b[0mper_game_dataset_2020\u001b[0m\u001b[0;34m)\u001b[0m\u001b[0;34m\u001b[0m\u001b[0;34m\u001b[0m\u001b[0m\n",
            "\u001b[0;31mNameError\u001b[0m: name 'cleanNames' is not defined"
          ]
        }
      ]
    },
    {
      "cell_type": "code",
      "source": [
        "set_of_datasets = [[combined_per36_2019, \"Per 36 Stats vs Salary 2019\"],  [combined_per36_2020, \"Per 36 Stats vs Salary 2020\"], [combined_per36_2021, \"Per 36 Stats vs Salary 2021\"],\n",
        "                   [combined_advanced_2019, \"Advanced Stats vs Salary 2019\"], [combined_advanced_2020, \"Advanced Stats vs Salary 2020\"], [combined_advanced_2021, \"Advanced Stats vs Salary 2021\"],\n",
        "                   [combined_per_game_2019, \"Per Game Stats vs Salary 2019\"], [combined_per_game_2020, \"Per Game Stats vs Salary 2020\"], [combined_per_game_2021, \"Per Game Stats vs Salary 2021\"]]"
      ],
      "metadata": {
        "id": "owB_OFGINwfg",
        "colab": {
          "base_uri": "https://localhost:8080/",
          "height": 283
        },
        "outputId": "9c644c90-b9f9-4512-85c6-8927f550c982"
      },
      "execution_count": null,
      "outputs": [
        {
          "output_type": "error",
          "ename": "NameError",
          "evalue": "ignored",
          "traceback": [
            "\u001b[0;31m---------------------------------------------------------------------------\u001b[0m",
            "\u001b[0;31mNameError\u001b[0m                                 Traceback (most recent call last)",
            "\u001b[0;32m<ipython-input-20-44a90ae72b1a>\u001b[0m in \u001b[0;36m<module>\u001b[0;34m()\u001b[0m\n\u001b[0;32m----> 1\u001b[0;31m set_of_datasets = [[combined_per36_2019, \"Per 36 Stats vs Salary 2019\"],  [combined_per36_2020, \"Per 36 Stats vs Salary 2020\"], [combined_per36_2021, \"Per 36 Stats vs Salary 2021\"],\n\u001b[0m\u001b[1;32m      2\u001b[0m                    \u001b[0;34m[\u001b[0m\u001b[0mcombined_advanced_2019\u001b[0m\u001b[0;34m,\u001b[0m \u001b[0;34m\"Advanced Stats vs Salary 2019\"\u001b[0m\u001b[0;34m]\u001b[0m\u001b[0;34m,\u001b[0m \u001b[0;34m[\u001b[0m\u001b[0mcombined_advanced_2020\u001b[0m\u001b[0;34m,\u001b[0m \u001b[0;34m\"Advanced Stats vs Salary 2020\"\u001b[0m\u001b[0;34m]\u001b[0m\u001b[0;34m,\u001b[0m \u001b[0;34m[\u001b[0m\u001b[0mcombined_advanced_2021\u001b[0m\u001b[0;34m,\u001b[0m \u001b[0;34m\"Advanced Stats vs Salary 2021\"\u001b[0m\u001b[0;34m]\u001b[0m\u001b[0;34m,\u001b[0m\u001b[0;34m\u001b[0m\u001b[0;34m\u001b[0m\u001b[0m\n\u001b[1;32m      3\u001b[0m                    [combined_per_game_2019, \"Per Game Stats vs Salary 2019\"], [combined_per_game_2020, \"Per Game Stats vs Salary 2020\"], [combined_per_game_2021, \"Per Game Stats vs Salary 2021\"]]\n",
            "\u001b[0;31mNameError\u001b[0m: name 'combined_per36_2019' is not defined"
          ]
        }
      ]
    },
    {
      "cell_type": "code",
      "source": [
        "combined_per36_col_list_2019 = ['GS', 'MP', 'FG', 'PTS','FGA','FT', 'FTA', 'Average Salary']\n",
        "combined_per36_col_list_2020 = ['GS', 'MP', 'FG', 'PTS','FGA','FT', 'FTA', 'Average Salary']\n",
        "combined_per36_col_list_2021 = ['GS', 'MP', 'FG', 'PTS','FGA','FT', 'FTA', 'Average Salary']"
      ],
      "metadata": {
        "id": "BrYw3i0Eu-JM"
      },
      "execution_count": null,
      "outputs": []
    },
    {
      "cell_type": "code",
      "source": [
        "\n",
        "combined_advanced_col_list_2019 = ['VORP', 'OBPM', 'BPM', 'WS', 'PER', 'OWS', 'USG%', 'Average Salary']\n",
        "combined_advanced_col_list_2020 = ['VORP', 'OBPM', 'BPM', 'WS', 'PER', 'OWS', 'USG%', 'Average Salary']\n",
        "combined_advanced_col_list_2021 = ['VORP', 'OBPM', 'BPM', 'WS', 'PER', 'OWS', 'USG%', 'Average Salary']"
      ],
      "metadata": {
        "id": "nFSaovfdvB26"
      },
      "execution_count": null,
      "outputs": []
    },
    {
      "cell_type": "code",
      "source": [
        "combined_per_game_col_list_2019 = []"
      ],
      "metadata": {
        "id": "dW4E6RQ5vBrz"
      },
      "execution_count": null,
      "outputs": []
    },
    {
      "cell_type": "code",
      "source": [
        "# showing correlations\n",
        "counter = 0\n",
        "for i, j in set_of_datasets:\n",
        "  showCorrelation(i, j)\n",
        "\n",
        "\n",
        "\n",
        "test_df = combined_per36_2019[combined_per36_col_list_2019]\n",
        "\n",
        "model_loading_list = \n",
        "\n"
      ],
      "metadata": {
        "colab": {
          "base_uri": "https://localhost:8080/",
          "height": 130
        },
        "id": "qO3Ek54KHW2g",
        "outputId": "089b1b54-500c-4cc6-c26f-a0e3ff3fb409"
      },
      "execution_count": null,
      "outputs": [
        {
          "output_type": "error",
          "ename": "SyntaxError",
          "evalue": "ignored",
          "traceback": [
            "\u001b[0;36m  File \u001b[0;32m\"<ipython-input-30-6d97024292e3>\"\u001b[0;36m, line \u001b[0;32m10\u001b[0m\n\u001b[0;31m    model_loading_list =\u001b[0m\n\u001b[0m                         ^\u001b[0m\n\u001b[0;31mSyntaxError\u001b[0m\u001b[0;31m:\u001b[0m invalid syntax\n"
          ]
        }
      ]
    },
    {
      "cell_type": "code",
      "source": [
        "def showCorrelation(dataset, title): \n",
        "  plt.figure(figsize = (20, 20))\n",
        "  plt.title('{}'.format(title), fontsize = 20)\n",
        "  sns.set(font_scale = 1.1)\n",
        "\n",
        "  corr = dataset.corr()\n",
        "\n",
        "  mask = np.zeros_like(corr, dtype=np.bool)\n",
        "  mask[np.triu_indices_from(mask)] = True\n",
        "  # heatmap needs slight reworking to fix problem with\n",
        "  dataset_heatmap = sns.heatmap(\n",
        "      data = corr,\n",
        "      cmap = 'coolwarm', \n",
        "      square = True,\n",
        "      cbar = False,\n",
        "      annot = True,\n",
        "      mask = mask,\n",
        "      fmt = \".2g\"\n",
        "      )\n",
        "  plt.show()\n"
      ],
      "metadata": {
        "id": "-eToE33JS2gQ"
      },
      "execution_count": null,
      "outputs": []
    },
    {
      "cell_type": "code",
      "source": [
        "def loadModel(dataset, category, year):\n",
        "  #Enter your code below in this cell, can pick any number of columns - should only be 5-10 columns left\n",
        "\n",
        "  X = dataset.iloc[:, :-1].values\n",
        "\n",
        "  # save this line for the salary column\n",
        "  Y = dataset.iloc[:, 7:].values\n",
        "  # Train Test Split \n",
        "  X_train, X_test, Y_train, Y_test = train_test_split( \n",
        "        X, Y, test_size = 1/3, random_state = 0 )\n",
        "\n",
        "  model = LinearRegression()\n",
        "  model.fit( X_train, Y_train )\n",
        "  Y_pred = model.predict(X_test)\n",
        "\n",
        "  plt.scatter( X_test[:,0], Y_test, color = 'blue' )\n",
        "\n",
        "  print(\"Predicted Salaries: \",np.round(Y_pred[:5],2),\"\\n Actual Salaries: \",Y_test[:5])\n",
        "  print(Y_pred.shape)\n",
        "  #plt.plot( X_test[:,0], Y_pred, color = 'blue' )\n",
        "\n",
        "  plt.title( 'Predcted Salaries vs Real Salaries {} {}'.format(category, year) )\n",
        "        \n",
        "  plt.xlabel( 'Predicted' )\n",
        "        \n",
        "  plt.ylabel( 'Real' )\n",
        "\n",
        "  plt.show()\n",
        "\n",
        "loadModel(combined_per36_col_list_2019)\n"
      ],
      "metadata": {
        "id": "11Y_o9q3QFoO"
      },
      "execution_count": null,
      "outputs": []
    },
    {
      "cell_type": "code",
      "source": [
        "from sklearn.metrics import r2_score\n",
        "from sklearn.metrics import mean_squared_error\n",
        "# predicting the accuracy score\n",
        "score=r2_score(Y_test,Y_pred)\n",
        "print('r2 score is ',score)\n",
        "print('mean_sqrd_error is==',mean_squared_error(Y_test,Y_pred))\n",
        "print('root_mean_squared error of is==',np.sqrt(mean_squared_error(Y_test,Y_pred)))"
      ],
      "metadata": {
        "colab": {
          "base_uri": "https://localhost:8080/",
          "height": 232
        },
        "id": "V5JzcmnMl52z",
        "outputId": "16d9a356-abe4-4a45-e156-5c893a9b2007"
      },
      "execution_count": null,
      "outputs": [
        {
          "output_type": "error",
          "ename": "NameError",
          "evalue": "ignored",
          "traceback": [
            "\u001b[0;31m---------------------------------------------------------------------------\u001b[0m",
            "\u001b[0;31mNameError\u001b[0m                                 Traceback (most recent call last)",
            "\u001b[0;32m<ipython-input-28-17077fcb900e>\u001b[0m in \u001b[0;36m<module>\u001b[0;34m()\u001b[0m\n\u001b[1;32m      2\u001b[0m \u001b[0;32mfrom\u001b[0m \u001b[0msklearn\u001b[0m\u001b[0;34m.\u001b[0m\u001b[0mmetrics\u001b[0m \u001b[0;32mimport\u001b[0m \u001b[0mmean_squared_error\u001b[0m\u001b[0;34m\u001b[0m\u001b[0;34m\u001b[0m\u001b[0m\n\u001b[1;32m      3\u001b[0m \u001b[0;31m# predicting the accuracy score\u001b[0m\u001b[0;34m\u001b[0m\u001b[0;34m\u001b[0m\u001b[0;34m\u001b[0m\u001b[0m\n\u001b[0;32m----> 4\u001b[0;31m \u001b[0mscore\u001b[0m\u001b[0;34m=\u001b[0m\u001b[0mr2_score\u001b[0m\u001b[0;34m(\u001b[0m\u001b[0mY_test\u001b[0m\u001b[0;34m,\u001b[0m\u001b[0mY_pred\u001b[0m\u001b[0;34m)\u001b[0m\u001b[0;34m\u001b[0m\u001b[0;34m\u001b[0m\u001b[0m\n\u001b[0m\u001b[1;32m      5\u001b[0m \u001b[0mprint\u001b[0m\u001b[0;34m(\u001b[0m\u001b[0;34m'r2 score is '\u001b[0m\u001b[0;34m,\u001b[0m\u001b[0mscore\u001b[0m\u001b[0;34m)\u001b[0m\u001b[0;34m\u001b[0m\u001b[0;34m\u001b[0m\u001b[0m\n\u001b[1;32m      6\u001b[0m \u001b[0mprint\u001b[0m\u001b[0;34m(\u001b[0m\u001b[0;34m'mean_sqrd_error is=='\u001b[0m\u001b[0;34m,\u001b[0m\u001b[0mmean_squared_error\u001b[0m\u001b[0;34m(\u001b[0m\u001b[0mY_test\u001b[0m\u001b[0;34m,\u001b[0m\u001b[0mY_pred\u001b[0m\u001b[0;34m)\u001b[0m\u001b[0;34m)\u001b[0m\u001b[0;34m\u001b[0m\u001b[0;34m\u001b[0m\u001b[0m\n",
            "\u001b[0;31mNameError\u001b[0m: name 'Y_test' is not defined"
          ]
        }
      ]
    }
  ]
}